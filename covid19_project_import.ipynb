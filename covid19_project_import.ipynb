{
 "cells": [
  {
   "cell_type": "markdown",
   "metadata": {},
   "source": [
    "# Initial Data Import and Engineering"
   ]
  },
  {
   "cell_type": "code",
   "execution_count": 1,
   "metadata": {},
   "outputs": [],
   "source": [
    "import pandas as pd"
   ]
  },
  {
   "cell_type": "markdown",
   "metadata": {},
   "source": [
    "#### Import each csv file, rename columns, and add new columns for daily values where necessary"
   ]
  },
  {
   "cell_type": "code",
   "execution_count": 2,
   "metadata": {},
   "outputs": [],
   "source": [
    "df_testing = pd.read_csv('statewide_testing.csv', parse_dates=['date'])\n",
    "df_testing.set_index('date', inplace=True)\n",
    "df_testing.rename(columns={'tested':'cumulative_tests'},inplace=True)\n",
    "df_testing['new_tests'] = df_testing['cumulative_tests']\n",
    "for i in range(1, len(df_testing)):\n",
    "    df_testing.iloc[[i],[1]] = df_testing.iloc[i,0] - df_testing.iloc[(i-1),0]"
   ]
  },
  {
   "cell_type": "code",
   "execution_count": 23,
   "metadata": {},
   "outputs": [],
   "source": [
    "df_cases = pd.read_csv('statewide_cases.csv', header=1, parse_dates=['date'])\n",
    "df_cases = df_cases.groupby('date').sum()\n",
    "df_cases.rename(columns={'totalcountconfirmed':'cumulative_cases','totalcountdeaths':'cumulative_deaths','newcountconfirmed':'new_cases','newcountdeaths':'new_deaths'}, inplace=True)"
   ]
  },
  {
   "cell_type": "code",
   "execution_count": 24,
   "metadata": {},
   "outputs": [],
   "source": [
    "df_hospitals = pd.read_csv('hospitals_by_county.csv', header=1, parse_dates=['todays_date'])\n",
    "df_hospitals = df_hospitals.groupby('todays_date').sum()\n",
    "df_hospitals.drop(labels=['hospitalized_covid_patients','all_hospital_beds'], axis=1, inplace=True)"
   ]
  },
  {
   "cell_type": "code",
   "execution_count": 3,
   "metadata": {},
   "outputs": [],
   "source": [
    "df_nursinghome = pd.read_csv('covid19datanursinghome.csv', header=1, parse_dates=['as_of_date'])\n",
    "df_nursinghome.drop(labels=['facility_id'], axis=1, inplace=True)\n",
    "df_nursinghome = df_nursinghome.groupby('as_of_date').sum()\n",
    "df_nursinghome['new_resident_deaths'] = None\n",
    "for i in range(1, len(df_nursinghome)):\n",
    "    df_nursinghome.iloc[[i],[6]] = df_nursinghome.iloc[i,2] - df_nursinghome.iloc[(i-1),2]\n",
    "nh_headers = {}\n",
    "for item in df_nursinghome.columns:\n",
    "    new_name = 'nh_' + item\n",
    "    nh_headers.update({item:new_name})\n",
    "df_nursinghome.rename(columns=nh_headers,inplace=True)"
   ]
  },
  {
   "cell_type": "code",
   "execution_count": 4,
   "metadata": {},
   "outputs": [],
   "source": [
    "df_beds = pd.read_csv('bed_surge.csv', header=1, parse_dates=['date'])\n",
    "df_beds = df_beds.groupby('date').sum()"
   ]
  },
  {
   "cell_type": "markdown",
   "metadata": {},
   "source": [
    "#### Restructured age dataset to only include those in the high risk category (65+)"
   ]
  },
  {
   "cell_type": "code",
   "execution_count": 27,
   "metadata": {},
   "outputs": [],
   "source": [
    "df_case_age = pd.read_csv('case_demographics_age.csv', header=1, parse_dates=['date'])\n",
    "df_case_age.set_index('age_group', inplace=True)\n",
    "df_case_age.drop(labels=['0-17','18-49','50-64','Unknown','Missing'], axis=0, inplace=True)\n",
    "df_case_age.reset_index(inplace=True)\n",
    "df_case_age.sort_values(by='date', inplace=True)\n",
    "df_case_age.set_index('date', inplace=True)\n",
    "df_case_age.drop(['deaths','ca_percent','age_group','case_percent'], axis=1, inplace=True)\n",
    "df_case_age['elderly_new_cases'] = None\n",
    "for i in range(1, len(df_case_age)):\n",
    "    df_case_age.iloc[[i],[2]] = df_case_age.iloc[i,0] - df_case_age.iloc[(i-1),0]\n",
    "df_case_age['elderly_new_cases'] = pd.to_numeric(df_case_age.elderly_new_cases)\n",
    "df_case_age.rename(columns={'totalpositive':'elderly_cumulative_cases','deaths_percent':'elderly_proportion_deaths'}, inplace=True)"
   ]
  },
  {
   "cell_type": "markdown",
   "metadata": {},
   "source": [
    "#### Restructured ethnicity dataset to isolate cases attributed to minority groups"
   ]
  },
  {
   "cell_type": "code",
   "execution_count": 28,
   "metadata": {},
   "outputs": [],
   "source": [
    "df_case_ethnicity = pd.read_csv('case_demographics_ethnicity.csv', header=1, parse_dates=['date'])\n",
    "df_case_ethnicity.set_index('race_ethnicity', inplace=True)\n",
    "df_case_ethnicity.drop(labels=['White'], axis=0, inplace=True)\n",
    "df_case_ethnicity.reset_index(inplace=True)\n",
    "df_case_ethnicity = df_case_ethnicity.groupby('date').sum()\n",
    "df_case_ethnicity.drop(labels=['percent_ca_population', 'deaths','case_percentage'], axis=1, inplace=True)\n",
    "df_case_ethnicity['minority_new_positives'] = None\n",
    "for i in range(1, len(df_case_ethnicity)):\n",
    "    df_case_ethnicity.iloc[[i],[2]] = df_case_ethnicity.iloc[i,0] - df_case_ethnicity.iloc[(i-1),0]\n",
    "df_case_ethnicity.rename(columns={'cases':'minority_cumulative_cases', 'death_percentage':'minority_proportion_deaths'},inplace=True)"
   ]
  },
  {
   "cell_type": "markdown",
   "metadata": {},
   "source": [
    "#### Merge all dataframes together on the date index"
   ]
  },
  {
   "cell_type": "code",
   "execution_count": 29,
   "metadata": {},
   "outputs": [
    {
     "name": "stdout",
     "output_type": "stream",
     "text": [
      "<class 'pandas.core.frame.DataFrame'>\n",
      "DatetimeIndex: 278 entries, 2020-03-18 to 2020-12-20\n",
      "Data columns (total 27 columns):\n",
      " #   Column                                 Non-Null Count  Dtype  \n",
      "---  ------                                 --------------  -----  \n",
      " 0   cumulative_tests                       277 non-null    float64\n",
      " 1   new_tests                              277 non-null    float64\n",
      " 2   cumulative_cases                       277 non-null    float64\n",
      " 3   cumulative_deaths                      277 non-null    float64\n",
      " 4   new_cases                              277 non-null    float64\n",
      " 5   new_deaths                             277 non-null    float64\n",
      " 6   hospitalized_covid_confirmed_patients  266 non-null    float64\n",
      " 7   hospitalized_suspected_covid_patients  266 non-null    float64\n",
      " 8   icu_covid_confirmed_patients           266 non-null    float64\n",
      " 9   icu_suspected_covid_patients           266 non-null    float64\n",
      " 10  icu_available_beds                     266 non-null    float64\n",
      " 11  nh_total_resident_cases                244 non-null    float64\n",
      " 12  nh_new_resident_cases                  244 non-null    float64\n",
      " 13  nh_total_resident_deaths               244 non-null    float64\n",
      " 14  nh_total_health_care_worker_cases      244 non-null    float64\n",
      " 15  nh_new_health_care_worker_cases        244 non-null    float64\n",
      " 16  nh_total_health_care_workers_deaths    244 non-null    float64\n",
      " 17  nh_new_resident_deaths                 243 non-null    object \n",
      " 18  beds_ready_to_accept_patients          241 non-null    float64\n",
      " 19  patients_in_beds                       241 non-null    float64\n",
      " 20  beds_in_warm_status                    241 non-null    float64\n",
      " 21  elderly_cumulative_cases               262 non-null    float64\n",
      " 22  elderly_proportion_deaths              242 non-null    float64\n",
      " 23  elderly_new_cases                      261 non-null    float64\n",
      " 24  minority_cumulative_cases              251 non-null    float64\n",
      " 25  minority_proportion_deaths             251 non-null    float64\n",
      " 26  minority_new_positives                 250 non-null    object \n",
      "dtypes: float64(25), object(2)\n",
      "memory usage: 60.8+ KB\n"
     ]
    }
   ],
   "source": [
    "df_list = [df_cases, df_hospitals, df_nursinghome, df_beds, df_case_age, df_case_ethnicity]\n",
    "df = df_testing\n",
    "for item in df_list:\n",
    "    df = df.merge(item, how='outer', left_index=True, right_index=True)\n",
    "df.info()"
   ]
  },
  {
   "cell_type": "code",
   "execution_count": 30,
   "metadata": {},
   "outputs": [],
   "source": [
    "df.to_csv('ca_covid_data.csv')"
   ]
  },
  {
   "cell_type": "code",
   "execution_count": null,
   "metadata": {},
   "outputs": [],
   "source": []
  }
 ],
 "metadata": {
  "kernelspec": {
   "display_name": "Python 3",
   "language": "python",
   "name": "python3"
  },
  "language_info": {
   "codemirror_mode": {
    "name": "ipython",
    "version": 3
   },
   "file_extension": ".py",
   "mimetype": "text/x-python",
   "name": "python",
   "nbconvert_exporter": "python",
   "pygments_lexer": "ipython3",
   "version": "3.8.5"
  }
 },
 "nbformat": 4,
 "nbformat_minor": 4
}
