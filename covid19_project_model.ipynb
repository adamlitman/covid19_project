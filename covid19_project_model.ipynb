{
 "cells": [
  {
   "cell_type": "markdown",
   "metadata": {},
   "source": [
    "# Model Building"
   ]
  },
  {
   "cell_type": "code",
   "execution_count": 4,
   "metadata": {},
   "outputs": [],
   "source": [
    "import pandas as pd\n",
    "from sklearn.model_selection import train_test_split, GridSearchCV\n",
    "from sklearn.metrics import mean_squared_error as mse, r2_score\n",
    "from sklearn.linear_model import LinearRegression, ElasticNet\n",
    "from sklearn.preprocessing import StandardScaler\n",
    "from sklearn.pipeline import Pipeline\n",
    "from sklearn.ensemble import RandomForestRegressor, GradientBoostingRegressor\n",
    "import numpy as np\n",
    "import matplotlib.pyplot as plt"
   ]
  },
  {
   "cell_type": "code",
   "execution_count": 5,
   "metadata": {},
   "outputs": [],
   "source": [
    "df = pd.read_csv('ca_covid_data_clean.csv', index_col=0)"
   ]
  },
  {
   "cell_type": "code",
   "execution_count": 6,
   "metadata": {},
   "outputs": [
    {
     "data": {
      "text/plain": [
       "Index(['cumulative_tests', 'new_tests', 'cumulative_cases',\n",
       "       'cumulative_deaths', 'new_cases', 'new_deaths',\n",
       "       'hospitalized_covid_confirmed_patients',\n",
       "       'hospitalized_suspected_covid_patients', 'icu_covid_confirmed_patients',\n",
       "       'icu_suspected_covid_patients', 'icu_available_beds',\n",
       "       'nh_total_resident_cases', 'nh_new_resident_cases',\n",
       "       'nh_total_resident_deaths', 'nh_total_health_care_worker_cases',\n",
       "       'nh_new_health_care_worker_cases', 'nh_new_resident_deaths',\n",
       "       'beds_ready_to_accept_patients', 'patients_in_beds',\n",
       "       'elderly_cumulative_cases', 'elderly_new_cases',\n",
       "       'minority_cumulative_cases', 'minority_new_positives'],\n",
       "      dtype='object')"
      ]
     },
     "execution_count": 6,
     "metadata": {},
     "output_type": "execute_result"
    }
   ],
   "source": [
    "df.columns"
   ]
  },
  {
   "cell_type": "markdown",
   "metadata": {},
   "source": [
    "#### Set up variables and split data into a train and test set"
   ]
  },
  {
   "cell_type": "code",
   "execution_count": 7,
   "metadata": {},
   "outputs": [],
   "source": [
    "y = df.new_deaths\n",
    "X = df.drop(['new_deaths', 'cumulative_deaths', 'cumulative_tests', 'cumulative_cases', 'nh_total_resident_cases', 'nh_total_resident_deaths', 'nh_total_health_care_worker_cases', 'elderly_cumulative_cases', 'minority_cumulative_cases'], axis=1)"
   ]
  },
  {
   "cell_type": "code",
   "execution_count": 8,
   "metadata": {},
   "outputs": [],
   "source": [
    "X_train, X_test, y_train, y_test = train_test_split(X, y, test_size= 0.2, random_state= 42)"
   ]
  },
  {
   "cell_type": "markdown",
   "metadata": {},
   "source": [
    "#### Establish baseline multiple linear regression model with initial R-squared and RMSE"
   ]
  },
  {
   "cell_type": "code",
   "execution_count": 70,
   "metadata": {},
   "outputs": [
    {
     "name": "stdout",
     "output_type": "stream",
     "text": [
      "R-squared: 0.6490231791448677 RMSE: 35.89949726136942\n"
     ]
    }
   ],
   "source": [
    "reg = LinearRegression()\n",
    "reg.fit(X_train, y_train)\n",
    "y_pred_reg = reg.predict(X_test)\n",
    "print('R-squared: ' + str(r2_score(y_test, y_pred_reg)), 'RMSE: ' + str(np.sqrt(mse(y_test, y_pred_reg))))"
   ]
  },
  {
   "cell_type": "markdown",
   "metadata": {},
   "source": [
    "#### Test an elastic net model with preprocessing"
   ]
  },
  {
   "cell_type": "code",
   "execution_count": 10,
   "metadata": {},
   "outputs": [
    {
     "name": "stdout",
     "output_type": "stream",
     "text": [
      "R-squared: 0.5475714711254744 RMSE: 40.759058168563065\n"
     ]
    }
   ],
   "source": [
    "steps_elastic = [('scaler', StandardScaler()), ('elastic_net', ElasticNet())]\n",
    "pipeline_elastic = Pipeline(steps_elastic)\n",
    "pipeline_elastic.fit(X_train, y_train)\n",
    "y_pred_elastic = pipeline_elastic.predict(X_test)\n",
    "print('R-squared: ' + str(r2_score(y_test, y_pred_elastic)), 'RMSE: ' + str(np.sqrt(mse(y_test, y_pred_elastic))))"
   ]
  },
  {
   "cell_type": "markdown",
   "metadata": {},
   "source": [
    "#### Test a random forest regression model and tune hyperparameters to optimize performance"
   ]
  },
  {
   "cell_type": "code",
   "execution_count": 69,
   "metadata": {},
   "outputs": [
    {
     "name": "stdout",
     "output_type": "stream",
     "text": [
      "R-squared: 0.6817089436824119 RMSE: 34.18702948892998\n"
     ]
    }
   ],
   "source": [
    "rf = RandomForestRegressor()\n",
    "params_rf = {'n_estimators': [100, 350, 500], 'max_features': ['log2','auto','sqrt'], 'min_samples_leaf': [1,10,30]}\n",
    "grid_rf = GridSearchCV(rf, params_rf, scoring='neg_root_mean_squared_error', cv=3)\n",
    "grid_rf.fit(X_train, y_train)\n",
    "optimal_rf = grid_rf.best_estimator_\n",
    "y_pred_rf = optimal_rf.predict(X_test)\n",
    "print('R-squared: ' + str(r2_score(y_test, y_pred_rf)), 'RMSE: ' + str(np.sqrt(mse(y_test, y_pred_rf))))"
   ]
  },
  {
   "cell_type": "markdown",
   "metadata": {},
   "source": [
    "#### Examine which predictor variables had the strongest effect on the random forest model"
   ]
  },
  {
   "cell_type": "code",
   "execution_count": 72,
   "metadata": {},
   "outputs": [
    {
     "data": {
      "text/plain": [
       "minority_new_positives                   0.210064\n",
       "icu_covid_confirmed_patients             0.117414\n",
       "elderly_new_cases                        0.108288\n",
       "icu_available_beds                       0.085393\n",
       "new_tests                                0.083915\n",
       "hospitalized_suspected_covid_patients    0.069593\n",
       "icu_suspected_covid_patients             0.049889\n",
       "new_cases                                0.049350\n",
       "nh_new_health_care_worker_cases          0.047197\n",
       "beds_ready_to_accept_patients            0.041107\n",
       "hospitalized_covid_confirmed_patients    0.040172\n",
       "nh_new_resident_deaths                   0.034071\n",
       "patients_in_beds                         0.032249\n",
       "nh_new_resident_cases                    0.031298\n",
       "dtype: float64"
      ]
     },
     "execution_count": 72,
     "metadata": {},
     "output_type": "execute_result"
    }
   ],
   "source": [
    "pd.Series(data = optimal_rf.feature_importances_, index = X.columns).sort_values(ascending=False)"
   ]
  },
  {
   "cell_type": "markdown",
   "metadata": {},
   "source": [
    "#### Test a gradient boosting regression model with hyperparameter tuning"
   ]
  },
  {
   "cell_type": "code",
   "execution_count": 71,
   "metadata": {},
   "outputs": [
    {
     "name": "stdout",
     "output_type": "stream",
     "text": [
      "R-squared: 0.7497079740706118 RMSE: 30.316052859199104\n"
     ]
    }
   ],
   "source": [
    "gb = GradientBoostingRegressor()\n",
    "params_gb = {'loss': ['ls', 'lad', 'huber'], 'n_estimators': [100, 250, 500], 'subsample': [0.25, 0.5, 1.0], 'max_features': ['log2','auto','sqrt'], 'max_depth': [2,3,4]}\n",
    "grid_gb = GridSearchCV(gb, params_gb, scoring='neg_root_mean_squared_error', cv=3)\n",
    "grid_gb.fit(X_train, y_train)\n",
    "optimal_gb = grid_gb.best_estimator_\n",
    "y_pred_gb = optimal_gb.predict(X_test)\n",
    "print('R-squared: ' + str(r2_score(y_test, y_pred_gb)), 'RMSE: ' + str(np.sqrt(mse(y_test, y_pred_gb))))"
   ]
  },
  {
   "cell_type": "markdown",
   "metadata": {},
   "source": [
    "#### Examine which predictor variables had the strongest effect on the gradient boosting model"
   ]
  },
  {
   "cell_type": "code",
   "execution_count": 73,
   "metadata": {},
   "outputs": [],
   "source": [
    "features_gb = pd.Series(data = optimal_gb.feature_importances_, index = X.columns).sort_values(ascending=False)"
   ]
  },
  {
   "cell_type": "code",
   "execution_count": 74,
   "metadata": {},
   "outputs": [
    {
     "data": {
      "image/png": "[encoded data removed]",
      "text/plain": [
       "<Figure size 432x288 with 1 Axes>"
      ]
     },
     "metadata": {
      "needs_background": "light"
     },
     "output_type": "display_data"
    }
   ],
   "source": [
    "features_gb.plot(kind= 'bar')\n",
    "plt.ylabel('Importance to Model')\n",
    "plt.show()"
   ]
  },
  {
   "cell_type": "code",
   "execution_count": null,
   "metadata": {},
   "outputs": [],
   "source": []
  }
 ],
 "metadata": {
  "kernelspec": {
   "display_name": "Python 3",
   "language": "python",
   "name": "python3"
  },
  "language_info": {
   "codemirror_mode": {
    "name": "ipython",
    "version": 3
   },
   "file_extension": ".py",
   "mimetype": "text/x-python",
   "name": "python",
   "nbconvert_exporter": "python",
   "pygments_lexer": "ipython3",
   "version": "3.8.5"
  }
 },
 "nbformat": 4,
 "nbformat_minor": 4
}
